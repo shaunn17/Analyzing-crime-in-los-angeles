{
 "cells": [
  {
   "cell_type": "code",
   "execution_count": 1,
   "id": "043088d8",
   "metadata": {},
   "outputs": [],
   "source": [
    "import pandas as pd\n",
    "import numpy as np\n",
    "import matplotlib.pyplot as plt\n",
    "import seaborn as sns"
   ]
  },
  {
   "cell_type": "code",
   "execution_count": 2,
   "id": "4201e78a",
   "metadata": {},
   "outputs": [],
   "source": [
    "crimes = pd.read_csv(\"crimes.csv\", parse_dates=[\"Date Rptd\", \"DATE OCC\"], dtype={\"TIME OCC\": str})"
   ]
  },
  {
   "cell_type": "code",
   "execution_count": 3,
   "id": "d39e7803",
   "metadata": {},
   "outputs": [
    {
     "data": {
      "text/html": [
       "<div>\n",
       "<style scoped>\n",
       "    .dataframe tbody tr th:only-of-type {\n",
       "        vertical-align: middle;\n",
       "    }\n",
       "\n",
       "    .dataframe tbody tr th {\n",
       "        vertical-align: top;\n",
       "    }\n",
       "\n",
       "    .dataframe thead th {\n",
       "        text-align: right;\n",
       "    }\n",
       "</style>\n",
       "<table border=\"1\" class=\"dataframe\">\n",
       "  <thead>\n",
       "    <tr style=\"text-align: right;\">\n",
       "      <th></th>\n",
       "      <th>DR_NO</th>\n",
       "      <th>Date Rptd</th>\n",
       "      <th>DATE OCC</th>\n",
       "      <th>TIME OCC</th>\n",
       "      <th>AREA NAME</th>\n",
       "      <th>Crm Cd Desc</th>\n",
       "      <th>Vict Age</th>\n",
       "      <th>Vict Sex</th>\n",
       "      <th>Vict Descent</th>\n",
       "      <th>Weapon Desc</th>\n",
       "      <th>Status Desc</th>\n",
       "      <th>LOCATION</th>\n",
       "    </tr>\n",
       "  </thead>\n",
       "  <tbody>\n",
       "    <tr>\n",
       "      <th>0</th>\n",
       "      <td>220314085</td>\n",
       "      <td>2022-07-22</td>\n",
       "      <td>2020-05-12</td>\n",
       "      <td>1110</td>\n",
       "      <td>Southwest</td>\n",
       "      <td>THEFT OF IDENTITY</td>\n",
       "      <td>27</td>\n",
       "      <td>F</td>\n",
       "      <td>B</td>\n",
       "      <td>NaN</td>\n",
       "      <td>Invest Cont</td>\n",
       "      <td>2500 S  SYCAMORE                     AV</td>\n",
       "    </tr>\n",
       "    <tr>\n",
       "      <th>1</th>\n",
       "      <td>222013040</td>\n",
       "      <td>2022-08-06</td>\n",
       "      <td>2020-06-04</td>\n",
       "      <td>1620</td>\n",
       "      <td>Olympic</td>\n",
       "      <td>THEFT OF IDENTITY</td>\n",
       "      <td>60</td>\n",
       "      <td>M</td>\n",
       "      <td>H</td>\n",
       "      <td>NaN</td>\n",
       "      <td>Invest Cont</td>\n",
       "      <td>3300    SAN MARINO                   ST</td>\n",
       "    </tr>\n",
       "    <tr>\n",
       "      <th>2</th>\n",
       "      <td>220614831</td>\n",
       "      <td>2022-08-18</td>\n",
       "      <td>2020-08-17</td>\n",
       "      <td>1200</td>\n",
       "      <td>Hollywood</td>\n",
       "      <td>THEFT OF IDENTITY</td>\n",
       "      <td>28</td>\n",
       "      <td>M</td>\n",
       "      <td>H</td>\n",
       "      <td>NaN</td>\n",
       "      <td>Invest Cont</td>\n",
       "      <td>1900    TRANSIENT</td>\n",
       "    </tr>\n",
       "    <tr>\n",
       "      <th>3</th>\n",
       "      <td>231207725</td>\n",
       "      <td>2023-02-27</td>\n",
       "      <td>2020-01-27</td>\n",
       "      <td>0635</td>\n",
       "      <td>77th Street</td>\n",
       "      <td>THEFT OF IDENTITY</td>\n",
       "      <td>37</td>\n",
       "      <td>M</td>\n",
       "      <td>H</td>\n",
       "      <td>NaN</td>\n",
       "      <td>Invest Cont</td>\n",
       "      <td>6200    4TH                          AV</td>\n",
       "    </tr>\n",
       "    <tr>\n",
       "      <th>4</th>\n",
       "      <td>220213256</td>\n",
       "      <td>2022-07-14</td>\n",
       "      <td>2020-07-14</td>\n",
       "      <td>0900</td>\n",
       "      <td>Rampart</td>\n",
       "      <td>THEFT OF IDENTITY</td>\n",
       "      <td>79</td>\n",
       "      <td>M</td>\n",
       "      <td>B</td>\n",
       "      <td>NaN</td>\n",
       "      <td>Invest Cont</td>\n",
       "      <td>1200 W  7TH                          ST</td>\n",
       "    </tr>\n",
       "  </tbody>\n",
       "</table>\n",
       "</div>"
      ],
      "text/plain": [
       "       DR_NO  Date Rptd   DATE OCC TIME OCC    AREA NAME        Crm Cd Desc  \\\n",
       "0  220314085 2022-07-22 2020-05-12     1110    Southwest  THEFT OF IDENTITY   \n",
       "1  222013040 2022-08-06 2020-06-04     1620      Olympic  THEFT OF IDENTITY   \n",
       "2  220614831 2022-08-18 2020-08-17     1200    Hollywood  THEFT OF IDENTITY   \n",
       "3  231207725 2023-02-27 2020-01-27     0635  77th Street  THEFT OF IDENTITY   \n",
       "4  220213256 2022-07-14 2020-07-14     0900      Rampart  THEFT OF IDENTITY   \n",
       "\n",
       "   Vict Age Vict Sex Vict Descent Weapon Desc  Status Desc  \\\n",
       "0        27        F            B         NaN  Invest Cont   \n",
       "1        60        M            H         NaN  Invest Cont   \n",
       "2        28        M            H         NaN  Invest Cont   \n",
       "3        37        M            H         NaN  Invest Cont   \n",
       "4        79        M            B         NaN  Invest Cont   \n",
       "\n",
       "                                  LOCATION  \n",
       "0  2500 S  SYCAMORE                     AV  \n",
       "1  3300    SAN MARINO                   ST  \n",
       "2                        1900    TRANSIENT  \n",
       "3  6200    4TH                          AV  \n",
       "4  1200 W  7TH                          ST  "
      ]
     },
     "execution_count": 3,
     "metadata": {},
     "output_type": "execute_result"
    }
   ],
   "source": [
    "crimes.head()"
   ]
  },
  {
   "cell_type": "code",
   "execution_count": 4,
   "id": "69b79824",
   "metadata": {},
   "outputs": [
    {
     "data": {
      "text/plain": [
       "(185715, 12)"
      ]
     },
     "execution_count": 4,
     "metadata": {},
     "output_type": "execute_result"
    }
   ],
   "source": [
    "crimes.shape"
   ]
  },
  {
   "cell_type": "code",
   "execution_count": 5,
   "id": "fcb8c681",
   "metadata": {},
   "outputs": [
    {
     "name": "stdout",
     "output_type": "stream",
     "text": [
      "<class 'pandas.core.frame.DataFrame'>\n",
      "RangeIndex: 185715 entries, 0 to 185714\n",
      "Data columns (total 12 columns):\n",
      " #   Column        Non-Null Count   Dtype         \n",
      "---  ------        --------------   -----         \n",
      " 0   DR_NO         185715 non-null  int64         \n",
      " 1   Date Rptd     185715 non-null  datetime64[ns]\n",
      " 2   DATE OCC      185715 non-null  datetime64[ns]\n",
      " 3   TIME OCC      185715 non-null  object        \n",
      " 4   AREA NAME     185715 non-null  object        \n",
      " 5   Crm Cd Desc   185715 non-null  object        \n",
      " 6   Vict Age      185715 non-null  int64         \n",
      " 7   Vict Sex      185704 non-null  object        \n",
      " 8   Vict Descent  185705 non-null  object        \n",
      " 9   Weapon Desc   73502 non-null   object        \n",
      " 10  Status Desc   185715 non-null  object        \n",
      " 11  LOCATION      185715 non-null  object        \n",
      "dtypes: datetime64[ns](2), int64(2), object(8)\n",
      "memory usage: 17.0+ MB\n"
     ]
    }
   ],
   "source": [
    "crimes.info()"
   ]
  },
  {
   "cell_type": "code",
   "execution_count": null,
   "id": "a4b8e33e",
   "metadata": {},
   "outputs": [],
   "source": []
  },
  {
   "cell_type": "markdown",
   "id": "97882b0a",
   "metadata": {},
   "source": [
    "#### Which hour has the highest frequency of crimes? Store as an integer variable called peak_crime_hour"
   ]
  },
  {
   "cell_type": "code",
   "execution_count": 14,
   "id": "cf9d81b2",
   "metadata": {},
   "outputs": [
    {
     "data": {
      "text/plain": [
       "0         11\n",
       "1         16\n",
       "2         12\n",
       "3          6\n",
       "4          9\n",
       "          ..\n",
       "185710    11\n",
       "185711    18\n",
       "185712    10\n",
       "185713    16\n",
       "185714     9\n",
       "Name: Hour OCC, Length: 185715, dtype: int32"
      ]
     },
     "execution_count": 14,
     "metadata": {},
     "output_type": "execute_result"
    }
   ],
   "source": [
    "hour_crime = crimes['TIME OCC']\n",
    "crimes['Hour OCC'] = hour_crime.str[:2].astype(int)\n",
    "crimes['Hour OCC']"
   ]
  },
  {
   "cell_type": "code",
   "execution_count": 15,
   "id": "c6977f44",
   "metadata": {},
   "outputs": [
    {
     "data": {
      "text/plain": [
       "Hour OCC\n",
       "12    13663\n",
       "18    10125\n",
       "17     9964\n",
       "20     9579\n",
       "15     9393\n",
       "19     9262\n",
       "16     9224\n",
       "14     8872\n",
       "11     8787\n",
       "0      8728\n",
       "21     8701\n",
       "22     8531\n",
       "13     8474\n",
       "10     8440\n",
       "8      7523\n",
       "23     7419\n",
       "9      7092\n",
       "1      5836\n",
       "6      5621\n",
       "7      5403\n",
       "2      4726\n",
       "3      3943\n",
       "4      3238\n",
       "5      3171\n",
       "Name: count, dtype: int64"
      ]
     },
     "execution_count": 15,
     "metadata": {},
     "output_type": "execute_result"
    }
   ],
   "source": [
    "peak_crime_hour = crimes['Hour OCC'].value_counts()\n",
    "peak_crime_hour"
   ]
  },
  {
   "cell_type": "code",
   "execution_count": 65,
   "id": "ae22ceba",
   "metadata": {},
   "outputs": [
    {
     "name": "stdout",
     "output_type": "stream",
     "text": [
      "12\n"
     ]
    }
   ],
   "source": [
    "print(peak_crime_hour.index[0])"
   ]
  },
  {
   "cell_type": "code",
   "execution_count": 17,
   "id": "f10614bb",
   "metadata": {},
   "outputs": [
    {
     "data": {
      "image/png": "[encoded data removed]",
      "text/plain": [
       "<Figure size 640x480 with 1 Axes>"
      ]
     },
     "metadata": {},
     "output_type": "display_data"
    }
   ],
   "source": [
    "sns.countplot(data=crimes, x='Hour OCC', hue='Hour OCC')\n",
    "plt.show()"
   ]
  },
  {
   "cell_type": "markdown",
   "id": "0a81abc1",
   "metadata": {},
   "source": [
    "#### Which area has the largest frequency of night crimes (crimes committed between 10pm and 3:59am)? Save as a string variable called peak_night_crime_location."
   ]
  },
  {
   "cell_type": "code",
   "execution_count": 18,
   "id": "9eaa1e29",
   "metadata": {},
   "outputs": [
    {
     "data": {
      "text/plain": [
       "array([11, 16, 12,  6,  9, 10, 13,  0, 17,  1, 21,  7, 15,  5, 18, 19, 23,\n",
       "       14,  8, 20,  2, 22,  4,  3])"
      ]
     },
     "execution_count": 18,
     "metadata": {},
     "output_type": "execute_result"
    }
   ],
   "source": [
    "crimes['Hour OCC'].unique()"
   ]
  },
  {
   "cell_type": "code",
   "execution_count": 21,
   "id": "3d075d19",
   "metadata": {},
   "outputs": [
    {
     "data": {
      "text/html": [
       "<div>\n",
       "<style scoped>\n",
       "    .dataframe tbody tr th:only-of-type {\n",
       "        vertical-align: middle;\n",
       "    }\n",
       "\n",
       "    .dataframe tbody tr th {\n",
       "        vertical-align: top;\n",
       "    }\n",
       "\n",
       "    .dataframe thead th {\n",
       "        text-align: right;\n",
       "    }\n",
       "</style>\n",
       "<table border=\"1\" class=\"dataframe\">\n",
       "  <thead>\n",
       "    <tr style=\"text-align: right;\">\n",
       "      <th></th>\n",
       "      <th>DR_NO</th>\n",
       "      <th>Date Rptd</th>\n",
       "      <th>DATE OCC</th>\n",
       "      <th>TIME OCC</th>\n",
       "      <th>AREA NAME</th>\n",
       "      <th>Crm Cd Desc</th>\n",
       "      <th>Vict Age</th>\n",
       "      <th>Vict Sex</th>\n",
       "      <th>Vict Descent</th>\n",
       "      <th>Weapon Desc</th>\n",
       "      <th>Status Desc</th>\n",
       "      <th>LOCATION</th>\n",
       "      <th>Hour OCC</th>\n",
       "    </tr>\n",
       "  </thead>\n",
       "  <tbody>\n",
       "    <tr>\n",
       "      <th>8</th>\n",
       "      <td>231207476</td>\n",
       "      <td>2023-02-27</td>\n",
       "      <td>2020-08-15</td>\n",
       "      <td>0001</td>\n",
       "      <td>77th Street</td>\n",
       "      <td>BURGLARY</td>\n",
       "      <td>72</td>\n",
       "      <td>M</td>\n",
       "      <td>B</td>\n",
       "      <td>NaN</td>\n",
       "      <td>Invest Cont</td>\n",
       "      <td>8800    HAAS                         AV</td>\n",
       "      <td>0</td>\n",
       "    </tr>\n",
       "    <tr>\n",
       "      <th>10</th>\n",
       "      <td>221711184</td>\n",
       "      <td>2022-06-15</td>\n",
       "      <td>2020-05-15</td>\n",
       "      <td>0155</td>\n",
       "      <td>Devonshire</td>\n",
       "      <td>THEFT OF IDENTITY</td>\n",
       "      <td>27</td>\n",
       "      <td>M</td>\n",
       "      <td>B</td>\n",
       "      <td>NaN</td>\n",
       "      <td>Invest Cont</td>\n",
       "      <td>8300    WHITE OAK                    AV</td>\n",
       "      <td>1</td>\n",
       "    </tr>\n",
       "    <tr>\n",
       "      <th>30</th>\n",
       "      <td>221314362</td>\n",
       "      <td>2022-07-11</td>\n",
       "      <td>2020-04-07</td>\n",
       "      <td>0001</td>\n",
       "      <td>Newton</td>\n",
       "      <td>THEFT OF IDENTITY</td>\n",
       "      <td>53</td>\n",
       "      <td>F</td>\n",
       "      <td>H</td>\n",
       "      <td>NaN</td>\n",
       "      <td>Invest Cont</td>\n",
       "      <td>1600 E  OLYMPIC                      BL</td>\n",
       "      <td>0</td>\n",
       "    </tr>\n",
       "    <tr>\n",
       "      <th>33</th>\n",
       "      <td>231307252</td>\n",
       "      <td>2023-03-03</td>\n",
       "      <td>2020-07-05</td>\n",
       "      <td>2305</td>\n",
       "      <td>Newton</td>\n",
       "      <td>THEFT OF IDENTITY</td>\n",
       "      <td>22</td>\n",
       "      <td>F</td>\n",
       "      <td>B</td>\n",
       "      <td>NaN</td>\n",
       "      <td>Invest Cont</td>\n",
       "      <td>6600 S  BROADWAY</td>\n",
       "      <td>23</td>\n",
       "    </tr>\n",
       "    <tr>\n",
       "      <th>36</th>\n",
       "      <td>221614254</td>\n",
       "      <td>2022-11-13</td>\n",
       "      <td>2020-01-01</td>\n",
       "      <td>0001</td>\n",
       "      <td>Foothill</td>\n",
       "      <td>THEFT OF IDENTITY</td>\n",
       "      <td>22</td>\n",
       "      <td>F</td>\n",
       "      <td>H</td>\n",
       "      <td>NaN</td>\n",
       "      <td>Invest Cont</td>\n",
       "      <td>10200    TELFAIR                      AV</td>\n",
       "      <td>0</td>\n",
       "    </tr>\n",
       "    <tr>\n",
       "      <th>...</th>\n",
       "      <td>...</td>\n",
       "      <td>...</td>\n",
       "      <td>...</td>\n",
       "      <td>...</td>\n",
       "      <td>...</td>\n",
       "      <td>...</td>\n",
       "      <td>...</td>\n",
       "      <td>...</td>\n",
       "      <td>...</td>\n",
       "      <td>...</td>\n",
       "      <td>...</td>\n",
       "      <td>...</td>\n",
       "      <td>...</td>\n",
       "    </tr>\n",
       "    <tr>\n",
       "      <th>185687</th>\n",
       "      <td>231306158</td>\n",
       "      <td>2023-02-11</td>\n",
       "      <td>2023-02-08</td>\n",
       "      <td>2200</td>\n",
       "      <td>Newton</td>\n",
       "      <td>BURGLARY FROM VEHICLE</td>\n",
       "      <td>38</td>\n",
       "      <td>M</td>\n",
       "      <td>H</td>\n",
       "      <td>NaN</td>\n",
       "      <td>Invest Cont</td>\n",
       "      <td>1700 E  16TH                         ST</td>\n",
       "      <td>22</td>\n",
       "    </tr>\n",
       "    <tr>\n",
       "      <th>185695</th>\n",
       "      <td>231212224</td>\n",
       "      <td>2023-05-17</td>\n",
       "      <td>2023-05-17</td>\n",
       "      <td>2300</td>\n",
       "      <td>77th Street</td>\n",
       "      <td>VIOLATION OF RESTRAINING ORDER</td>\n",
       "      <td>35</td>\n",
       "      <td>F</td>\n",
       "      <td>H</td>\n",
       "      <td>NaN</td>\n",
       "      <td>Invest Cont</td>\n",
       "      <td>8200 S  MAIN                         ST</td>\n",
       "      <td>23</td>\n",
       "    </tr>\n",
       "    <tr>\n",
       "      <th>185700</th>\n",
       "      <td>231300825</td>\n",
       "      <td>2023-06-07</td>\n",
       "      <td>2023-06-07</td>\n",
       "      <td>2203</td>\n",
       "      <td>Newton</td>\n",
       "      <td>BATTERY - SIMPLE ASSAULT</td>\n",
       "      <td>45</td>\n",
       "      <td>F</td>\n",
       "      <td>B</td>\n",
       "      <td>UNKNOWN WEAPON/OTHER WEAPON</td>\n",
       "      <td>Invest Cont</td>\n",
       "      <td>2300    WALL                         ST</td>\n",
       "      <td>22</td>\n",
       "    </tr>\n",
       "    <tr>\n",
       "      <th>185701</th>\n",
       "      <td>230908346</td>\n",
       "      <td>2023-04-19</td>\n",
       "      <td>2023-04-18</td>\n",
       "      <td>2243</td>\n",
       "      <td>Van Nuys</td>\n",
       "      <td>THEFT OF IDENTITY</td>\n",
       "      <td>34</td>\n",
       "      <td>F</td>\n",
       "      <td>B</td>\n",
       "      <td>NaN</td>\n",
       "      <td>Invest Cont</td>\n",
       "      <td>4800    COLDWATER CANYON             AV</td>\n",
       "      <td>22</td>\n",
       "    </tr>\n",
       "    <tr>\n",
       "      <th>185704</th>\n",
       "      <td>231710498</td>\n",
       "      <td>2023-05-29</td>\n",
       "      <td>2023-05-29</td>\n",
       "      <td>0200</td>\n",
       "      <td>Devonshire</td>\n",
       "      <td>INTIMATE PARTNER - SIMPLE ASSAULT</td>\n",
       "      <td>27</td>\n",
       "      <td>F</td>\n",
       "      <td>H</td>\n",
       "      <td>STRONG-ARM (HANDS, FIST, FEET OR BODILY FORCE)</td>\n",
       "      <td>Invest Cont</td>\n",
       "      <td>11400    PORTER RANCH                 DR</td>\n",
       "      <td>2</td>\n",
       "    </tr>\n",
       "  </tbody>\n",
       "</table>\n",
       "<p>39183 rows × 13 columns</p>\n",
       "</div>"
      ],
      "text/plain": [
       "            DR_NO  Date Rptd   DATE OCC TIME OCC    AREA NAME  \\\n",
       "8       231207476 2023-02-27 2020-08-15     0001  77th Street   \n",
       "10      221711184 2022-06-15 2020-05-15     0155   Devonshire   \n",
       "30      221314362 2022-07-11 2020-04-07     0001       Newton   \n",
       "33      231307252 2023-03-03 2020-07-05     2305       Newton   \n",
       "36      221614254 2022-11-13 2020-01-01     0001     Foothill   \n",
       "...           ...        ...        ...      ...          ...   \n",
       "185687  231306158 2023-02-11 2023-02-08     2200       Newton   \n",
       "185695  231212224 2023-05-17 2023-05-17     2300  77th Street   \n",
       "185700  231300825 2023-06-07 2023-06-07     2203       Newton   \n",
       "185701  230908346 2023-04-19 2023-04-18     2243     Van Nuys   \n",
       "185704  231710498 2023-05-29 2023-05-29     0200   Devonshire   \n",
       "\n",
       "                              Crm Cd Desc  Vict Age Vict Sex Vict Descent  \\\n",
       "8                                BURGLARY        72        M            B   \n",
       "10                      THEFT OF IDENTITY        27        M            B   \n",
       "30                      THEFT OF IDENTITY        53        F            H   \n",
       "33                      THEFT OF IDENTITY        22        F            B   \n",
       "36                      THEFT OF IDENTITY        22        F            H   \n",
       "...                                   ...       ...      ...          ...   \n",
       "185687              BURGLARY FROM VEHICLE        38        M            H   \n",
       "185695     VIOLATION OF RESTRAINING ORDER        35        F            H   \n",
       "185700           BATTERY - SIMPLE ASSAULT        45        F            B   \n",
       "185701                  THEFT OF IDENTITY        34        F            B   \n",
       "185704  INTIMATE PARTNER - SIMPLE ASSAULT        27        F            H   \n",
       "\n",
       "                                           Weapon Desc  Status Desc  \\\n",
       "8                                                  NaN  Invest Cont   \n",
       "10                                                 NaN  Invest Cont   \n",
       "30                                                 NaN  Invest Cont   \n",
       "33                                                 NaN  Invest Cont   \n",
       "36                                                 NaN  Invest Cont   \n",
       "...                                                ...          ...   \n",
       "185687                                             NaN  Invest Cont   \n",
       "185695                                             NaN  Invest Cont   \n",
       "185700                     UNKNOWN WEAPON/OTHER WEAPON  Invest Cont   \n",
       "185701                                             NaN  Invest Cont   \n",
       "185704  STRONG-ARM (HANDS, FIST, FEET OR BODILY FORCE)  Invest Cont   \n",
       "\n",
       "                                        LOCATION  Hour OCC  \n",
       "8        8800    HAAS                         AV         0  \n",
       "10       8300    WHITE OAK                    AV         1  \n",
       "30       1600 E  OLYMPIC                      BL         0  \n",
       "33                              6600 S  BROADWAY        23  \n",
       "36      10200    TELFAIR                      AV         0  \n",
       "...                                          ...       ...  \n",
       "185687   1700 E  16TH                         ST        22  \n",
       "185695   8200 S  MAIN                         ST        23  \n",
       "185700   2300    WALL                         ST        22  \n",
       "185701   4800    COLDWATER CANYON             AV        22  \n",
       "185704  11400    PORTER RANCH                 DR         2  \n",
       "\n",
       "[39183 rows x 13 columns]"
      ]
     },
     "execution_count": 21,
     "metadata": {},
     "output_type": "execute_result"
    }
   ],
   "source": [
    "night_time = crimes[crimes[\"Hour OCC\"].isin([22,23,0,1,2,3])]\n",
    "night_time"
   ]
  },
  {
   "cell_type": "code",
   "execution_count": 46,
   "id": "511e6dfb",
   "metadata": {},
   "outputs": [
    {
     "data": {
      "text/plain": [
       "'Central'"
      ]
     },
     "execution_count": 46,
     "metadata": {},
     "output_type": "execute_result"
    }
   ],
   "source": [
    "peak_night_crime_location = night_time.groupby(\"AREA NAME\", as_index=False)[\"Hour OCC\"].count().sort_values(\"Hour OCC\", ascending=False).iloc[0][\"AREA NAME\"]\n",
    "peak_night_crime_location\n"
   ]
  },
  {
   "cell_type": "markdown",
   "id": "541664b4",
   "metadata": {},
   "source": [
    "#### Identify the number of crimes committed against victims of different age groups. Save as a pandas Series called victim_ages, with age group labels \"0-17\", \"18-25\", \"26-34\", \"35-44\", \"45-54\", \"55-64\", and \"65+\" as the index and the frequency of crimes as the values."
   ]
  },
  {
   "cell_type": "code",
   "execution_count": 47,
   "id": "3e06a94a",
   "metadata": {},
   "outputs": [],
   "source": [
    "categories = [\"0-17\", \"18-25\", \"26-34\", \"35-44\", \"45-54\", \"55-64\", \"65+\"]"
   ]
  },
  {
   "cell_type": "code",
   "execution_count": 49,
   "id": "171bee90",
   "metadata": {},
   "outputs": [
    {
     "data": {
      "text/plain": [
       "count    185715.000000\n",
       "mean         39.999257\n",
       "std          15.450227\n",
       "min           2.000000\n",
       "25%          28.000000\n",
       "50%          37.000000\n",
       "75%          50.000000\n",
       "max          99.000000\n",
       "Name: Vict Age, dtype: float64"
      ]
     },
     "execution_count": 49,
     "metadata": {},
     "output_type": "execute_result"
    }
   ],
   "source": [
    "crimes['Vict Age'].describe()"
   ]
  },
  {
   "cell_type": "code",
   "execution_count": 64,
   "id": "5477492e",
   "metadata": {},
   "outputs": [
    {
     "name": "stdout",
     "output_type": "stream",
     "text": [
      "age_bracket\n",
      "26-34    47470\n",
      "35-44    42157\n",
      "45-54    28353\n",
      "18-25    28291\n",
      "55-64    20169\n",
      "65+      14747\n",
      "0-17      4528\n",
      "Name: count, dtype: int64\n"
     ]
    }
   ],
   "source": [
    "crimes['age_bracket'] = pd.cut(crimes['Vict Age'], bins=[0, 17, 25, 34, 44, 54, 64, np.inf], labels=[\"0-17\", \"18-25\", \"26-34\", \"35-44\", \"45-54\", \"55-64\", \"65+\"])\n",
    "victim_ages = crimes['age_bracket'].value_counts()\n",
    "print(victim_ages)\n"
   ]
  }
 ],
 "metadata": {
  "kernelspec": {
   "display_name": "Python 3 (ipykernel)",
   "language": "python",
   "name": "python3"
  },
  "language_info": {
   "codemirror_mode": {
    "name": "ipython",
    "version": 3
   },
   "file_extension": ".py",
   "mimetype": "text/x-python",
   "name": "python",
   "nbconvert_exporter": "python",
   "pygments_lexer": "ipython3",
   "version": "3.11.5"
  }
 },
 "nbformat": 4,
 "nbformat_minor": 5
}
